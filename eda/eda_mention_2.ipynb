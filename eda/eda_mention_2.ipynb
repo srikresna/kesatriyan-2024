{
 "cells": [
  {
   "cell_type": "code",
   "execution_count": 29,
   "metadata": {},
   "outputs": [
    {
     "name": "stdout",
     "output_type": "stream",
     "text": [
      "Length Labeled Dataset: 5000\n",
      "Length Unlabeled Dataset: 1000\n"
     ]
    }
   ],
   "source": [
    "import pandas as pd\n",
    "\n",
    "labeled_dataset_path = '../data/dataset_penyisihan_bdc_2024.xlsx'\n",
    "unlabeled_dataset_path = '../data/dataset_unlabeled_penyisihan_bdc_2024.xlsx'\n",
    "\n",
    "labeled_df = pd.read_excel(labeled_dataset_path)\n",
    "unlabeled_df = pd.read_excel(unlabeled_dataset_path)\n",
    "\n",
    "print(f\"Length Labeled Dataset: {len(labeled_df)}\")\n",
    "print(f\"Length Unlabeled Dataset: {len(unlabeled_df)}\")"
   ]
  },
  {
   "cell_type": "code",
   "execution_count": 30,
   "metadata": {},
   "outputs": [],
   "source": [
    "\n",
    "import ftfy\n",
    "\n",
    "labeled_df['clean_text'] = labeled_df['text'].apply(ftfy.fix_text)\n"
   ]
  },
  {
   "cell_type": "code",
   "execution_count": 31,
   "metadata": {},
   "outputs": [],
   "source": [
    "import re\n",
    "import json\n",
    "\n",
    "with open('../data/dictionary.json', 'r') as f:\n",
    "    dictionary = json.load(f)\n",
    "\n",
    "def clean_text(text):\n",
    "    text = re.sub(r'\\s+', ' ', text)  # Hilangkan spasi berlebih\n",
    "    text = re.sub(r'http\\S+', '', text)  # Hilangkan URL\n",
    "    # text = re.sub(r'@[^ ]+', '', text)  # Hilangkan mention\n",
    "    # text = re.sub(r'#[^ ]+', '', text)  # Hilangkan hashtag\n",
    "    text = re.sub(r'\\[RE [\\w\\W]+\\]', '', text)  # Reply specifier\n",
    "    text = re.sub(r'\\[RT [\\w\\W]+\\]', '', text)  # Retweet specifier\n",
    "    text = re.sub(r'\\bRT\\b', '', text)\n",
    "    # text = re.sub(r'[^A-Za-z\\s]', '', text)  # Hilangkan karakter khusus\n",
    "    # text = text.lower()  # Ubah ke huruf kecil\n",
    "\n",
    "    # Ubah singkatan menjadi kata aslinya menggunakan maaping dictionary.json\n",
    "    for key in dictionary:\n",
    "        text = re.sub(r'\\b' + key + r'\\b', dictionary[key], text)\n",
    "\n",
    "    return text"
   ]
  },
  {
   "cell_type": "code",
   "execution_count": null,
   "metadata": {},
   "outputs": [],
   "source": []
  }
 ],
 "metadata": {
  "kernelspec": {
   "display_name": "mlops",
   "language": "python",
   "name": "python3"
  },
  "language_info": {
   "codemirror_mode": {
    "name": "ipython",
    "version": 3
   },
   "file_extension": ".py",
   "mimetype": "text/x-python",
   "name": "python",
   "nbconvert_exporter": "python",
   "pygments_lexer": "ipython3",
   "version": "3.8.18"
  }
 },
 "nbformat": 4,
 "nbformat_minor": 2
}
