{
 "cells": [
  {
   "cell_type": "code",
   "execution_count": 1,
   "metadata": {},
   "outputs": [],
   "source": [
    "import ftfy\n",
    "import pandas as pd\n",
    "import json\n",
    "import re\n",
    "\n",
    "# row scolling\n",
    "pd.set_option('display.max_rows', 200)\n",
    "pd.set_option('display.max_colwidth', None)"
   ]
  },
  {
   "cell_type": "code",
   "execution_count": 2,
   "metadata": {},
   "outputs": [
    {
     "name": "stdout",
     "output_type": "stream",
     "text": [
      "Length Labeled Dataset: 5000\n",
      "Length Unlabeled Dataset: 1000\n"
     ]
    }
   ],
   "source": [
    "labeled_dataset_path = '../data/dataset_penyisihan_bdc_2024.xlsx'\n",
    "unlabeled_dataset_path = '../data/dataset_unlabeled_penyisihan_bdc_2024.xlsx'\n",
    "\n",
    "labeled_df = pd.read_excel(labeled_dataset_path)\n",
    "unlabeled_df = pd.read_excel(unlabeled_dataset_path)\n",
    "\n",
    "print(f\"Length Labeled Dataset: {len(labeled_df)}\")\n",
    "print(f\"Length Unlabeled Dataset: {len(unlabeled_df)}\")"
   ]
  },
  {
   "cell_type": "code",
   "execution_count": 3,
   "metadata": {},
   "outputs": [],
   "source": [
    "labeled_df['clean_text'] = labeled_df['text'].apply(ftfy.fix_text)\n",
    "unlabeled_df['clean_text'] = unlabeled_df['Text'].apply(ftfy.fix_text)"
   ]
  },
  {
   "cell_type": "code",
   "execution_count": 4,
   "metadata": {},
   "outputs": [
    {
     "data": {
      "text/html": [
       "<div>\n",
       "<style scoped>\n",
       "    .dataframe tbody tr th:only-of-type {\n",
       "        vertical-align: middle;\n",
       "    }\n",
       "\n",
       "    .dataframe tbody tr th {\n",
       "        vertical-align: top;\n",
       "    }\n",
       "\n",
       "    .dataframe thead th {\n",
       "        text-align: right;\n",
       "    }\n",
       "</style>\n",
       "<table border=\"1\" class=\"dataframe\">\n",
       "  <thead>\n",
       "    <tr style=\"text-align: right;\">\n",
       "      <th></th>\n",
       "      <th>text</th>\n",
       "      <th>label</th>\n",
       "      <th>clean_text</th>\n",
       "    </tr>\n",
       "  </thead>\n",
       "  <tbody>\n",
       "    <tr>\n",
       "      <th>0</th>\n",
       "      <td>Kunjungan Prabowo ini untuk meresmikan dan menyerahkan proyek bantuan air bersih di lima titik. #IndonesiaSentris #IndonesiaHijau #02Melanjutkan #AnakMudaIndonesiaEmas Prabowo Subianto</td>\n",
       "      <td>Sumber Daya Alam</td>\n",
       "      <td>Kunjungan Prabowo ini untuk meresmikan dan menyerahkan proyek bantuan air bersih di lima titik. #IndonesiaSentris #IndonesiaHijau #02Melanjutkan #AnakMudaIndonesiaEmas Prabowo Subianto</td>\n",
       "    </tr>\n",
       "    <tr>\n",
       "      <th>1</th>\n",
       "      <td>RT Anies dapat tepuk tangan meriah saat jadi Rektor mewajibkan mata kuliah anti-korupsi untuk memutus mata rantai korupsi.. #AminMiskinkanKoruptor https://t.co/hgXsoQGaEa [RE ekowboy2]</td>\n",
       "      <td>Politik</td>\n",
       "      <td>RT Anies dapat tepuk tangan meriah saat jadi Rektor mewajibkan mata kuliah anti-korupsi untuk memutus mata rantai korupsi.. #AminMiskinkanKoruptor https://t.co/hgXsoQGaEa [RE ekowboy2]</td>\n",
       "    </tr>\n",
       "    <tr>\n",
       "      <th>2</th>\n",
       "      <td>@CIqXqwGAT04tMtx4OCATxjoVq7vv/Y8HeYaIOgMFg8Y= emng bener sih, pendukung 01 ada yg goblok, begitu jg dg pendukung 02.. hnya sj menurut pak Ridwan Kamil skemanya terbalik, klo 01 MAYORITAS PENDIDIKAN MENENGAH ATAS (artinya ada jg pendidikan rendah yg milih</td>\n",
       "      <td>Demografi</td>\n",
       "      <td>@CIqXqwGAT04tMtx4OCATxjoVq7vv/Y8HeYaIOgMFg8Y= emng bener sih, pendukung 01 ada yg goblok, begitu jg dg pendukung 02.. hnya sj menurut pak Ridwan Kamil skemanya terbalik, klo 01 MAYORITAS PENDIDIKAN MENENGAH ATAS (artinya ada jg pendidikan rendah yg milih</td>\n",
       "    </tr>\n",
       "    <tr>\n",
       "      <th>3</th>\n",
       "      <td>RT @L3R8XFBw3WGbxRPSj0/0hHZTbqVGX7qtfwRg9zmhK7Q= Sewaktu anies bersikap kritis ke kinerja pak prabowo dianggap engga sopan karena dianggap kurang menghormati orang tua, giliran skrg gibran yg tengil dan sok kritis malah dianggap kritis dan keras. Apakah ini tidak standar ganda? ÃƒÂ°Ã‚Å¸Ã‚Â¤Ã‚Â­ [RE coldthem]</td>\n",
       "      <td>Politik</td>\n",
       "      <td>RT @L3R8XFBw3WGbxRPSj0/0hHZTbqVGX7qtfwRg9zmhK7Q= Sewaktu anies bersikap kritis ke kinerja pak prabowo dianggap engga sopan karena dianggap kurang menghormati orang tua, giliran skrg gibran yg tengil dan sok kritis malah dianggap kritis dan keras. Apakah ini tidak standar ganda? 🤭 [RE coldthem]</td>\n",
       "    </tr>\n",
       "    <tr>\n",
       "      <th>4</th>\n",
       "      <td>Anies Baswedan Harap ASN termasuk TNI dan Polri Pegang Sumpahnya dalam Pemilu https://t.co/QRQZ3wI8YP</td>\n",
       "      <td>Politik</td>\n",
       "      <td>Anies Baswedan Harap ASN termasuk TNI dan Polri Pegang Sumpahnya dalam Pemilu https://t.co/QRQZ3wI8YP</td>\n",
       "    </tr>\n",
       "    <tr>\n",
       "      <th>...</th>\n",
       "      <td>...</td>\n",
       "      <td>...</td>\n",
       "      <td>...</td>\n",
       "    </tr>\n",
       "    <tr>\n",
       "      <th>4995</th>\n",
       "      <td>RT @l1DsGGe2xObT3t72dHwqlT58X7jvEYtEnauZIZSYwSo= Ngeliat debat kemaren pas prabowo kicep, kekira keluarga yg biasa lakukan Aksi Kamisan di depan istana : ? [RE BinNuh_]</td>\n",
       "      <td>Politik</td>\n",
       "      <td>RT @l1DsGGe2xObT3t72dHwqlT58X7jvEYtEnauZIZSYwSo= Ngeliat debat kemaren pas prabowo kicep, kekira keluarga yg biasa lakukan Aksi Kamisan di depan istana : ? [RE BinNuh_]</td>\n",
       "    </tr>\n",
       "    <tr>\n",
       "      <th>4996</th>\n",
       "      <td>Masyarakat yakin bahwa Prabowo-Gibran memiliki visi yang sejalan dengan aspirasi rakyat. #KosongDuaSatuPutaran RakyatSenang 02Menang https://t.co/AEQ3e9oPCH</td>\n",
       "      <td>Politik</td>\n",
       "      <td>Masyarakat yakin bahwa Prabowo-Gibran memiliki visi yang sejalan dengan aspirasi rakyat. #KosongDuaSatuPutaran RakyatSenang 02Menang https://t.co/AEQ3e9oPCH</td>\n",
       "    </tr>\n",
       "    <tr>\n",
       "      <th>4997</th>\n",
       "      <td>imo both are irrational but yg satu jauh lebih irrational tbh. but nevertheless dua duanya mesti diluruskan dan baik anies dan ahok KUDU TERLIBAT LANGSUNG untuk validasi trauma mereka. dengan empati lho ya. gitu ae sih.</td>\n",
       "      <td>Ekonomi</td>\n",
       "      <td>imo both are irrational but yg satu jauh lebih irrational tbh. but nevertheless dua duanya mesti diluruskan dan baik anies dan ahok KUDU TERLIBAT LANGSUNG untuk validasi trauma mereka. dengan empati lho ya. gitu ae sih.</td>\n",
       "    </tr>\n",
       "    <tr>\n",
       "      <th>4998</th>\n",
       "      <td>@cIIGSdjaPrmAQY1E4gWnLpIZSdyQn8ZMhjJzgOsxfRM= look at that pak ganjar, anda sdh berkecimpung di lgislatif, eksekutif bhkan capres saja mamatGS brani mngmcam, ancaman itu nyata pak ganjar, nyalakan tanda bahaya utk OPM (operasi Persenjataan Mamat)</td>\n",
       "      <td>Pertahanan dan Keamanan</td>\n",
       "      <td>@cIIGSdjaPrmAQY1E4gWnLpIZSdyQn8ZMhjJzgOsxfRM= look at that pak ganjar, anda sdh berkecimpung di lgislatif, eksekutif bhkan capres saja mamatGS brani mngmcam, ancaman itu nyata pak ganjar, nyalakan tanda bahaya utk OPM (operasi Persenjataan Mamat)</td>\n",
       "    </tr>\n",
       "    <tr>\n",
       "      <th>4999</th>\n",
       "      <td>Acara ini tidak hanya memasak, tetapi Calon Presiden nomor urut 2 itu juga menghabiskan waktu berinteraksi dengan warga, #IndonesiaSentris #IndonesiaHijau #02Melanjutkan #AnakMudaIndonesiaEmas Prabowo Subianto</td>\n",
       "      <td>Sumber Daya Alam</td>\n",
       "      <td>Acara ini tidak hanya memasak, tetapi Calon Presiden nomor urut 2 itu juga menghabiskan waktu berinteraksi dengan warga, #IndonesiaSentris #IndonesiaHijau #02Melanjutkan #AnakMudaIndonesiaEmas Prabowo Subianto</td>\n",
       "    </tr>\n",
       "  </tbody>\n",
       "</table>\n",
       "<p>5000 rows × 3 columns</p>\n",
       "</div>"
      ],
      "text/plain": [
       "                                                                                                                                                                                                                                                                                                                       text  \\\n",
       "0                                                                                                                                  Kunjungan Prabowo ini untuk meresmikan dan menyerahkan proyek bantuan air bersih di lima titik. #IndonesiaSentris #IndonesiaHijau #02Melanjutkan #AnakMudaIndonesiaEmas Prabowo Subianto   \n",
       "1                                                                                                                                  RT Anies dapat tepuk tangan meriah saat jadi Rektor mewajibkan mata kuliah anti-korupsi untuk memutus mata rantai korupsi.. #AminMiskinkanKoruptor https://t.co/hgXsoQGaEa [RE ekowboy2]   \n",
       "2                                                            @CIqXqwGAT04tMtx4OCATxjoVq7vv/Y8HeYaIOgMFg8Y= emng bener sih, pendukung 01 ada yg goblok, begitu jg dg pendukung 02.. hnya sj menurut pak Ridwan Kamil skemanya terbalik, klo 01 MAYORITAS PENDIDIKAN MENENGAH ATAS (artinya ada jg pendidikan rendah yg milih   \n",
       "3     RT @L3R8XFBw3WGbxRPSj0/0hHZTbqVGX7qtfwRg9zmhK7Q= Sewaktu anies bersikap kritis ke kinerja pak prabowo dianggap engga sopan karena dianggap kurang menghormati orang tua, giliran skrg gibran yg tengil dan sok kritis malah dianggap kritis dan keras. Apakah ini tidak standar ganda? ÃƒÂ°Ã‚Å¸Ã‚Â¤Ã‚Â­ [RE coldthem]   \n",
       "4                                                                                                                                                                                                                     Anies Baswedan Harap ASN termasuk TNI dan Polri Pegang Sumpahnya dalam Pemilu https://t.co/QRQZ3wI8YP   \n",
       "...                                                                                                                                                                                                                                                                                                                     ...   \n",
       "4995                                                                                                                                               RT @l1DsGGe2xObT3t72dHwqlT58X7jvEYtEnauZIZSYwSo= Ngeliat debat kemaren pas prabowo kicep, kekira keluarga yg biasa lakukan Aksi Kamisan di depan istana : ? [RE BinNuh_]   \n",
       "4996                                                                                                                                                           Masyarakat yakin bahwa Prabowo-Gibran memiliki visi yang sejalan dengan aspirasi rakyat. #KosongDuaSatuPutaran RakyatSenang 02Menang https://t.co/AEQ3e9oPCH   \n",
       "4997                                                                                            imo both are irrational but yg satu jauh lebih irrational tbh. but nevertheless dua duanya mesti diluruskan dan baik anies dan ahok KUDU TERLIBAT LANGSUNG untuk validasi trauma mereka. dengan empati lho ya. gitu ae sih.   \n",
       "4998                                                                 @cIIGSdjaPrmAQY1E4gWnLpIZSdyQn8ZMhjJzgOsxfRM= look at that pak ganjar, anda sdh berkecimpung di lgislatif, eksekutif bhkan capres saja mamatGS brani mngmcam, ancaman itu nyata pak ganjar, nyalakan tanda bahaya utk OPM (operasi Persenjataan Mamat)   \n",
       "4999                                                                                                      Acara ini tidak hanya memasak, tetapi Calon Presiden nomor urut 2 itu juga menghabiskan waktu berinteraksi dengan warga, #IndonesiaSentris #IndonesiaHijau #02Melanjutkan #AnakMudaIndonesiaEmas Prabowo Subianto   \n",
       "\n",
       "                        label  \\\n",
       "0            Sumber Daya Alam   \n",
       "1                     Politik   \n",
       "2                   Demografi   \n",
       "3                     Politik   \n",
       "4                     Politik   \n",
       "...                       ...   \n",
       "4995                  Politik   \n",
       "4996                  Politik   \n",
       "4997                  Ekonomi   \n",
       "4998  Pertahanan dan Keamanan   \n",
       "4999         Sumber Daya Alam   \n",
       "\n",
       "                                                                                                                                                                                                                                                                                                  clean_text  \n",
       "0                                                                                                                   Kunjungan Prabowo ini untuk meresmikan dan menyerahkan proyek bantuan air bersih di lima titik. #IndonesiaSentris #IndonesiaHijau #02Melanjutkan #AnakMudaIndonesiaEmas Prabowo Subianto  \n",
       "1                                                                                                                   RT Anies dapat tepuk tangan meriah saat jadi Rektor mewajibkan mata kuliah anti-korupsi untuk memutus mata rantai korupsi.. #AminMiskinkanKoruptor https://t.co/hgXsoQGaEa [RE ekowboy2]  \n",
       "2                                             @CIqXqwGAT04tMtx4OCATxjoVq7vv/Y8HeYaIOgMFg8Y= emng bener sih, pendukung 01 ada yg goblok, begitu jg dg pendukung 02.. hnya sj menurut pak Ridwan Kamil skemanya terbalik, klo 01 MAYORITAS PENDIDIKAN MENENGAH ATAS (artinya ada jg pendidikan rendah yg milih  \n",
       "3     RT @L3R8XFBw3WGbxRPSj0/0hHZTbqVGX7qtfwRg9zmhK7Q= Sewaktu anies bersikap kritis ke kinerja pak prabowo dianggap engga sopan karena dianggap kurang menghormati orang tua, giliran skrg gibran yg tengil dan sok kritis malah dianggap kritis dan keras. Apakah ini tidak standar ganda? 🤭 [RE coldthem]  \n",
       "4                                                                                                                                                                                                      Anies Baswedan Harap ASN termasuk TNI dan Polri Pegang Sumpahnya dalam Pemilu https://t.co/QRQZ3wI8YP  \n",
       "...                                                                                                                                                                                                                                                                                                      ...  \n",
       "4995                                                                                                                                RT @l1DsGGe2xObT3t72dHwqlT58X7jvEYtEnauZIZSYwSo= Ngeliat debat kemaren pas prabowo kicep, kekira keluarga yg biasa lakukan Aksi Kamisan di depan istana : ? [RE BinNuh_]  \n",
       "4996                                                                                                                                            Masyarakat yakin bahwa Prabowo-Gibran memiliki visi yang sejalan dengan aspirasi rakyat. #KosongDuaSatuPutaran RakyatSenang 02Menang https://t.co/AEQ3e9oPCH  \n",
       "4997                                                                             imo both are irrational but yg satu jauh lebih irrational tbh. but nevertheless dua duanya mesti diluruskan dan baik anies dan ahok KUDU TERLIBAT LANGSUNG untuk validasi trauma mereka. dengan empati lho ya. gitu ae sih.  \n",
       "4998                                                  @cIIGSdjaPrmAQY1E4gWnLpIZSdyQn8ZMhjJzgOsxfRM= look at that pak ganjar, anda sdh berkecimpung di lgislatif, eksekutif bhkan capres saja mamatGS brani mngmcam, ancaman itu nyata pak ganjar, nyalakan tanda bahaya utk OPM (operasi Persenjataan Mamat)  \n",
       "4999                                                                                       Acara ini tidak hanya memasak, tetapi Calon Presiden nomor urut 2 itu juga menghabiskan waktu berinteraksi dengan warga, #IndonesiaSentris #IndonesiaHijau #02Melanjutkan #AnakMudaIndonesiaEmas Prabowo Subianto  \n",
       "\n",
       "[5000 rows x 3 columns]"
      ]
     },
     "execution_count": 4,
     "metadata": {},
     "output_type": "execute_result"
    }
   ],
   "source": [
    "labeled_df"
   ]
  },
  {
   "cell_type": "code",
   "execution_count": 5,
   "metadata": {},
   "outputs": [],
   "source": [
    "# Load the dictionary from the specified path\n",
    "with open('../data/dictionary.json', 'r') as f:\n",
    "    dictionary = json.load(f)\n",
    "\n",
    "def clean_text(text):\n",
    "    text = re.sub(r'\\s+', ' ', text)  # Hilangkan spasi berlebih\n",
    "    text = re.sub(r'http\\S+', '', text)  # Hilangkan URL\n",
    "    text = re.sub(r'@[^ ]+', '', text)  # Hilangkan mention\n",
    "    # text = re.sub(r'#[^ ]+', '', text)  # Hilangkan hashtag\n",
    "    text = re.sub(r'\\[RE [\\w\\W]+\\]', '', text)  # Reply specifier\n",
    "    text = re.sub(r'RT\\s+', '', text)  # Hilangkan retweet specifier\n",
    "    text = re.sub(r'\\[RT [\\w\\W]+\\]', '', text)  # Retweet specifier\n",
    "    text = re.sub(r'\\[rt [\\w\\W]+\\]', '', text)  # Retweet specifier\n",
    "    # text = re.sub(r'[^A-Za-z\\s]', '', text)  # Hilangkan karakter khusus\n",
    "    text = text.replace(\"yg\", \"yang\")\n",
    "    # text = text.replace(\"prabowogibran\", \"prabowo gibran\")\n",
    "    # text = text.replace(\"ganjarmahfud\", \"ganjar mahfud\")\n",
    "    text = text.lower()   # Ubah ke huruf kecil\n",
    "\n",
    "    # Ubah singkatan menjadi kata aslinya menggunakan mapping dictionary.json\n",
    "    for key in dictionary:\n",
    "        text = re.sub(r'\\b' + key + r'\\b', dictionary[key], text)\n",
    "\n",
    "    return text"
   ]
  },
  {
   "cell_type": "code",
   "execution_count": 6,
   "metadata": {},
   "outputs": [],
   "source": [
    "labeled_df['clean_text'] = labeled_df['clean_text'].apply(clean_text)\n",
    "unlabeled_df['clean_text'] = unlabeled_df['clean_text'].apply(clean_text)"
   ]
  },
  {
   "cell_type": "code",
   "execution_count": 7,
   "metadata": {},
   "outputs": [
    {
     "name": "stdout",
     "output_type": "stream",
     "text": [
      "anies dapat tepuk tangan meriah saat jadi rektor mewajibkan mata kuliah anti-korupsi untuk memutus mata rantai korupsi.. #aminmiskinkankoruptor  \n"
     ]
    }
   ],
   "source": [
    "print(labeled_df['clean_text'][1])"
   ]
  },
  {
   "cell_type": "code",
   "execution_count": 8,
   "metadata": {},
   "outputs": [
    {
     "name": "stdout",
     "output_type": "stream",
     "text": [
      "                                                                                                                                                                                                                                                                                                                                                                                                                                                                                                                                                                                                                                                                                                                                                                                                                                                                                                                                                                                                                                                                                                                                                                                                                                                                                                                                                                                                                                                                                                                                                                                                                                                                                                                                                                                                                                                                                                                                                                text  \\\n",
      "1205  RT Abah Anies Janji Bakal Revisi UU KPK untuk Kembalikan Kepercayaan Publik ÃƒÂ°Ã‚Å¸Ã‚â€˜Ã‚Â Calon presiden (capres) nomor urut 1 Anies Baswedan berjanji akan melakukan pembenahan terhadap Komisi Pemberantasan Korupsi (KPK) apabila memenangi pemilihan presiden (Pilpres) 2024. Langkah pertama Anies untuk membenahi lembaga antirasuah yaitu dengan merevisi Undang-Undang (UU) Nomor 19 Tahun 2019 tentang Perubahan atas UU Nomor 30 Tahun 2002 tentang Komisi Pemberantasan Tindak Pidana Korupsi. Menurut Anies, langkah merevisi UU tersebut bertujuan untuk mengembalikan kepercayaan publik sekaligus mengembalikan KPK seperti dulu sebagai lembaga yang memiliki kemampuan memberantas korupsi. \"Kita mengembalikan agar KPK berwibawa lagi secara legal seperti dulu, dan ini artinya merevisi Undang-Undang KPK. Kami ingin agar revisi ini bisa mengembalikan KPK pada posisi yang kuat,\" ujar Anies dalam pemaparannya di acara 'Paku Integritas Calon Presiden dan Calon Wakil Presiden' di Gedung KPK, Jakarta, Rabu (17/1/2024) malam. Selain memperbaiki UU, Anies juga berkomitmen agar menciptakan standar etika yang tinggi di tubuh KPK. Anies menginginkan supaya semua unsur KPK kembali seperti dulu, ketika di mana para pegawainya tidak mau ikut makan atau tak ingin mengikuti kegiatan yang tidak didanai oleh KPK. \"Standar yang tinggi itu harus dikembalikan di KPK, sehingga bukan saja undang-undangnya memberikan kekuatan, dan kemandirian tetapi juga di dalamnya baik pimpinan maupun staf bekerja dengan kode etik yang amat tinggi,\" ujar Anies. Anies juga ingin memperbaiki rekrutmen baik di tingkat pimpinan maupun di tingkat pegawai. \"Seperti yang tadi disampaikan yang diusulkan presiden tingkat pimpinan maupun rekrutmen staf yang bukan hanya mencari pekerjaan tetapi menjadi tempat untuk memberantas korupsi,\" imbuh dia. (Sumber https://t.co/E8wFn3r4P4) #AminMiskinkanKoruptor [RE tijabar]   \n",
      "2377  RT Abah Anies Janji Bakal Revisi UU KPK untuk Kembalikan Kepercayaan Publik ÃƒÂ°Ã‚Å¸Ã‚â€˜Ã‚Â Calon presiden (capres) nomor urut 1 Anies Baswedan berjanji akan melakukan pembenahan terhadap Komisi Pemberantasan Korupsi (KPK) apabila memenangi pemilihan presiden (Pilpres) 2024. Langkah pertama Anies untuk membenahi lembaga antirasuah yaitu dengan merevisi Undang-Undang (UU) Nomor 19 Tahun 2019 tentang Perubahan atas UU Nomor 30 Tahun 2002 tentang Komisi Pemberantasan Tindak Pidana Korupsi. Menurut Anies, langkah merevisi UU tersebut bertujuan untuk mengembalikan kepercayaan publik sekaligus mengembalikan KPK seperti dulu sebagai lembaga yang memiliki kemampuan memberantas korupsi. \"Kita mengembalikan agar KPK berwibawa lagi secara legal seperti dulu, dan ini artinya merevisi Undang-Undang KPK. Kami ingin agar revisi ini bisa mengembalikan KPK pada posisi yang kuat,\" ujar Anies dalam pemaparannya di acara 'Paku Integritas Calon Presiden dan Calon Wakil Presiden' di Gedung KPK, Jakarta, Rabu (17/1/2024) malam. Selain memperbaiki UU, Anies juga berkomitmen agar menciptakan standar etika yang tinggi di tubuh KPK. Anies menginginkan supaya semua unsur KPK kembali seperti dulu, ketika di mana para pegawainya tidak mau ikut makan atau tak ingin mengikuti kegiatan yang tidak didanai oleh KPK. \"Standar yang tinggi itu harus dikembalikan di KPK, sehingga bukan saja undang-undangnya memberikan kekuatan, dan kemandirian tetapi juga di dalamnya baik pimpinan maupun staf bekerja dengan kode etik yang amat tinggi,\" ujar Anies. Anies juga ingin memperbaiki rekrutmen baik di tingkat pimpinan maupun di tingkat pegawai. \"Seperti yang tadi disampaikan yang diusulkan presiden tingkat pimpinan maupun rekrutmen staf yang bukan hanya mencari pekerjaan tetapi menjadi tempat untuk memberantas korupsi,\" imbuh dia. (Sumber https://t.co/E8wFn3r4P4) #AminMiskinkanKoruptor [RE tijabar]   \n",
      "3659  RT Abah Anies Janji Bakal Revisi UU KPK untuk Kembalikan Kepercayaan Publik ÃƒÂ°Ã‚Å¸Ã‚â€˜Ã‚Â Calon presiden (capres) nomor urut 1 Anies Baswedan berjanji akan melakukan pembenahan terhadap Komisi Pemberantasan Korupsi (KPK) apabila memenangi pemilihan presiden (Pilpres) 2024. Langkah pertama Anies untuk membenahi lembaga antirasuah yaitu dengan merevisi Undang-Undang (UU) Nomor 19 Tahun 2019 tentang Perubahan atas UU Nomor 30 Tahun 2002 tentang Komisi Pemberantasan Tindak Pidana Korupsi. Menurut Anies, langkah merevisi UU tersebut bertujuan untuk mengembalikan kepercayaan publik sekaligus mengembalikan KPK seperti dulu sebagai lembaga yang memiliki kemampuan memberantas korupsi. \"Kita mengembalikan agar KPK berwibawa lagi secara legal seperti dulu, dan ini artinya merevisi Undang-Undang KPK. Kami ingin agar revisi ini bisa mengembalikan KPK pada posisi yang kuat,\" ujar Anies dalam pemaparannya di acara 'Paku Integritas Calon Presiden dan Calon Wakil Presiden' di Gedung KPK, Jakarta, Rabu (17/1/2024) malam. Selain memperbaiki UU, Anies juga berkomitmen agar menciptakan standar etika yang tinggi di tubuh KPK. Anies menginginkan supaya semua unsur KPK kembali seperti dulu, ketika di mana para pegawainya tidak mau ikut makan atau tak ingin mengikuti kegiatan yang tidak didanai oleh KPK. \"Standar yang tinggi itu harus dikembalikan di KPK, sehingga bukan saja undang-undangnya memberikan kekuatan, dan kemandirian tetapi juga di dalamnya baik pimpinan maupun staf bekerja dengan kode etik yang amat tinggi,\" ujar Anies. Anies juga ingin memperbaiki rekrutmen baik di tingkat pimpinan maupun di tingkat pegawai. \"Seperti yang tadi disampaikan yang diusulkan presiden tingkat pimpinan maupun rekrutmen staf yang bukan hanya mencari pekerjaan tetapi menjadi tempat untuk memberantas korupsi,\" imbuh dia. (Sumber https://t.co/E8wFn3r4P4) #AminMiskinkanKoruptor [RE tijabar]   \n",
      "\n",
      "                        label  \\\n",
      "1205  Pertahanan dan Keamanan   \n",
      "2377  Pertahanan dan Keamanan   \n",
      "3659                  Politik   \n",
      "\n",
      "                                                                                                                                                                                                                                                                                                                                                                                                                                                                                                                                                                                                                                                                                                                                                                                                                                                                                                                                                                                                                                                                                                                                                                                                                                                                                                                                                                                                                                                                                                                                                                                                                                                                                                                                                                                                                                                                                                     clean_text  \n",
      "1205  abah anies janji bakal revisi uu kpk untuk kembalikan kepercayaan publik 👍 calon presiden (capres) nomor urut 1 anies baswedan berjanji akan melakukan pembenahan terhadap komisi pemberantasan korupsi (kpk) apabila memenangi pemilihan presiden (pilpres) 2024. langkah pertama anies untuk membenahi lembaga antirasuah yaitu dengan merevisi undang-undang (uu) nomor 19 tahun 2019 tentang perubahan atas uu nomor 30 tahun 2002 tentang komisi pemberantasan tindak pidana korupsi. menurut anies, langkah merevisi uu tersebut bertujuan untuk mengembalikan kepercayaan publik sekaligus mengembalikan kpk seperti dulu sebagai lembaga yang memiliki kemampuan memberantas korupsi. \"kita mengembalikan agar kpk berwibawa lagi secara legal seperti dulu, dan ini artinya merevisi undang-undang kpk. kami ingin agar revisi ini bisa mengembalikan kpk pada posisi yang kuat,\" ujar anies dalam pemaparannya di acara 'paku integritas calon presiden dan calon wakil presiden' di gedung kpk, jakarta, rabu (17/1/2024) malam. selain memperbaiki uu, anies juga berkomitmen agar menciptakan standar etika yang tinggi di tubuh kpk. anies menginginkan supaya semua unsur kpk kembali seperti dulu, ketika di mana para pegawainya tidak ingin ikut makan atau tak ingin mengikuti kegiatan yang tidak didanai oleh kpk. \"standar yang tinggi itu harus dikembalikan di kpk, sehingga bukan saja undang-undangnya memberikan kekuatan, dan kemandirian tetapi juga di dalamnya baik pimpinan maupun staf bekerja dengan kode etik yang amat tinggi,\" ujar anies. anies juga ingin memperbaiki rekrutmen baik di tingkat pimpinan maupun di tingkat pegawai. \"seperti yang tadi disampaikan yang diusulkan presiden tingkat pimpinan maupun rekrutmen staf yang bukan hanya mencari pekerjaan tetapi menjadi tempat untuk memberantas korupsi,\" imbuh dia. (sumber  #aminmiskinkankoruptor   \n",
      "2377  abah anies janji bakal revisi uu kpk untuk kembalikan kepercayaan publik 👍 calon presiden (capres) nomor urut 1 anies baswedan berjanji akan melakukan pembenahan terhadap komisi pemberantasan korupsi (kpk) apabila memenangi pemilihan presiden (pilpres) 2024. langkah pertama anies untuk membenahi lembaga antirasuah yaitu dengan merevisi undang-undang (uu) nomor 19 tahun 2019 tentang perubahan atas uu nomor 30 tahun 2002 tentang komisi pemberantasan tindak pidana korupsi. menurut anies, langkah merevisi uu tersebut bertujuan untuk mengembalikan kepercayaan publik sekaligus mengembalikan kpk seperti dulu sebagai lembaga yang memiliki kemampuan memberantas korupsi. \"kita mengembalikan agar kpk berwibawa lagi secara legal seperti dulu, dan ini artinya merevisi undang-undang kpk. kami ingin agar revisi ini bisa mengembalikan kpk pada posisi yang kuat,\" ujar anies dalam pemaparannya di acara 'paku integritas calon presiden dan calon wakil presiden' di gedung kpk, jakarta, rabu (17/1/2024) malam. selain memperbaiki uu, anies juga berkomitmen agar menciptakan standar etika yang tinggi di tubuh kpk. anies menginginkan supaya semua unsur kpk kembali seperti dulu, ketika di mana para pegawainya tidak ingin ikut makan atau tak ingin mengikuti kegiatan yang tidak didanai oleh kpk. \"standar yang tinggi itu harus dikembalikan di kpk, sehingga bukan saja undang-undangnya memberikan kekuatan, dan kemandirian tetapi juga di dalamnya baik pimpinan maupun staf bekerja dengan kode etik yang amat tinggi,\" ujar anies. anies juga ingin memperbaiki rekrutmen baik di tingkat pimpinan maupun di tingkat pegawai. \"seperti yang tadi disampaikan yang diusulkan presiden tingkat pimpinan maupun rekrutmen staf yang bukan hanya mencari pekerjaan tetapi menjadi tempat untuk memberantas korupsi,\" imbuh dia. (sumber  #aminmiskinkankoruptor   \n",
      "3659  abah anies janji bakal revisi uu kpk untuk kembalikan kepercayaan publik 👍 calon presiden (capres) nomor urut 1 anies baswedan berjanji akan melakukan pembenahan terhadap komisi pemberantasan korupsi (kpk) apabila memenangi pemilihan presiden (pilpres) 2024. langkah pertama anies untuk membenahi lembaga antirasuah yaitu dengan merevisi undang-undang (uu) nomor 19 tahun 2019 tentang perubahan atas uu nomor 30 tahun 2002 tentang komisi pemberantasan tindak pidana korupsi. menurut anies, langkah merevisi uu tersebut bertujuan untuk mengembalikan kepercayaan publik sekaligus mengembalikan kpk seperti dulu sebagai lembaga yang memiliki kemampuan memberantas korupsi. \"kita mengembalikan agar kpk berwibawa lagi secara legal seperti dulu, dan ini artinya merevisi undang-undang kpk. kami ingin agar revisi ini bisa mengembalikan kpk pada posisi yang kuat,\" ujar anies dalam pemaparannya di acara 'paku integritas calon presiden dan calon wakil presiden' di gedung kpk, jakarta, rabu (17/1/2024) malam. selain memperbaiki uu, anies juga berkomitmen agar menciptakan standar etika yang tinggi di tubuh kpk. anies menginginkan supaya semua unsur kpk kembali seperti dulu, ketika di mana para pegawainya tidak ingin ikut makan atau tak ingin mengikuti kegiatan yang tidak didanai oleh kpk. \"standar yang tinggi itu harus dikembalikan di kpk, sehingga bukan saja undang-undangnya memberikan kekuatan, dan kemandirian tetapi juga di dalamnya baik pimpinan maupun staf bekerja dengan kode etik yang amat tinggi,\" ujar anies. anies juga ingin memperbaiki rekrutmen baik di tingkat pimpinan maupun di tingkat pegawai. \"seperti yang tadi disampaikan yang diusulkan presiden tingkat pimpinan maupun rekrutmen staf yang bukan hanya mencari pekerjaan tetapi menjadi tempat untuk memberantas korupsi,\" imbuh dia. (sumber  #aminmiskinkankoruptor   \n"
     ]
    }
   ],
   "source": [
    "# cari kata `aminmiskinkankoruptor` di unlabeled dataset\n",
    "print(labeled_df[labeled_df['clean_text'].str.contains('komisi pemberantasan korupsi')])"
   ]
  },
  {
   "cell_type": "code",
   "execution_count": 9,
   "metadata": {},
   "outputs": [
    {
     "name": "stdout",
     "output_type": "stream",
     "text": [
      "Length Labeled Dataset: 4285\n"
     ]
    }
   ],
   "source": [
    "# drop duplicate rows\n",
    "labeled_df.drop_duplicates(subset=['clean_text'], inplace=True)\n",
    "\n",
    "print(f\"Length Labeled Dataset: {len(labeled_df)}\")"
   ]
  },
  {
   "cell_type": "code",
   "execution_count": 13,
   "metadata": {},
   "outputs": [
    {
     "name": "stdout",
     "output_type": "stream",
     "text": [
      "RT Jawaban pak Anies tentang HTI dan FPI https://t.co/qMIj8kLGqm [RE Yurissa_Samosir]\n"
     ]
    }
   ],
   "source": [
    "print(labeled_df['text'][4942])"
   ]
  },
  {
   "cell_type": "code",
   "execution_count": 16,
   "metadata": {},
   "outputs": [
    {
     "name": "stdout",
     "output_type": "stream",
     "text": [
      "@+0HCSSnYXfZ/WiNzDKgSO08o/BKbymxlncndey4/N+E= @M61KgouH2JD4MMFLGZBhfG5ocln03Am625DmaZpKSYA= @9FbwEWDjW6JytQuu1xGP0wVid7bjHZCdeJyqTuewIx4= @ayXKEw8+J7ttUaxREMDLxvHtdJNBD5A7dnMunfd/bwA= @jYOrNzbQHYii1Oepe9IeSjjbM0AFalF7fuAb6z9FsIg= @uVsdeC4fpmwdNpQ1oJaoD2oU\n",
      "     \n"
     ]
    }
   ],
   "source": [
    "# cek index ke 74\n",
    "print(labeled_df['text'][74])\n",
    "\n",
    "print(labeled_df['clean_text'][74]) # malah kosong"
   ]
  },
  {
   "cell_type": "code",
   "execution_count": 19,
   "metadata": {},
   "outputs": [],
   "source": [
    "# stopword removal\n",
    "\n",
    "with open('../data/combined_stop_words.txt', 'r') as f:\n",
    "    stopwords = f.read().splitlines()\n",
    "\n",
    "def remove_stopwords(text):\n",
    "    return ' '.join([word for word in text.split() if word not in stopwords])\n",
    "\n",
    "labeled_df['clean_text'] = labeled_df['clean_text'].apply(remove_stopwords)\n",
    "unlabeled_df['clean_text'] = unlabeled_df['clean_text'].apply(remove_stopwords)"
   ]
  },
  {
   "cell_type": "code",
   "execution_count": 20,
   "metadata": {},
   "outputs": [],
   "source": [
    "# simpan ke file\n",
    "labeled_df.to_excel('../data/cleaned_labeled_dataset_2.xlsx', index=False)\n",
    "unlabeled_df.to_excel('../data/cleaned_unlabeled_dataset_2.xlsx', index=False)"
   ]
  }
 ],
 "metadata": {
  "kernelspec": {
   "display_name": "mlops",
   "language": "python",
   "name": "python3"
  },
  "language_info": {
   "codemirror_mode": {
    "name": "ipython",
    "version": 3
   },
   "file_extension": ".py",
   "mimetype": "text/x-python",
   "name": "python",
   "nbconvert_exporter": "python",
   "pygments_lexer": "ipython3",
   "version": "3.8.18"
  }
 },
 "nbformat": 4,
 "nbformat_minor": 2
}
