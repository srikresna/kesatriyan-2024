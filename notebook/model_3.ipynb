{
 "cells": [
  {
   "cell_type": "code",
   "execution_count": 1,
   "metadata": {},
   "outputs": [],
   "source": [
    "import pandas as pd\n",
    "from sklearn.feature_extraction.text import CountVectorizer\n"
   ]
  },
  {
   "cell_type": "code",
   "execution_count": 86,
   "metadata": {},
   "outputs": [
    {
     "data": {
      "text/html": [
       "<div>\n",
       "<style scoped>\n",
       "    .dataframe tbody tr th:only-of-type {\n",
       "        vertical-align: middle;\n",
       "    }\n",
       "\n",
       "    .dataframe tbody tr th {\n",
       "        vertical-align: top;\n",
       "    }\n",
       "\n",
       "    .dataframe thead th {\n",
       "        text-align: right;\n",
       "    }\n",
       "</style>\n",
       "<table border=\"1\" class=\"dataframe\">\n",
       "  <thead>\n",
       "    <tr style=\"text-align: right;\">\n",
       "      <th></th>\n",
       "      <th>text</th>\n",
       "      <th>label</th>\n",
       "      <th>clean_text</th>\n",
       "    </tr>\n",
       "  </thead>\n",
       "  <tbody>\n",
       "    <tr>\n",
       "      <th>0</th>\n",
       "      <td>Kunjungan Prabowo ini untuk meresmikan dan men...</td>\n",
       "      <td>Sumber Daya Alam</td>\n",
       "      <td>kunjungan prabowo meresmikan menyerahkan proye...</td>\n",
       "    </tr>\n",
       "    <tr>\n",
       "      <th>1</th>\n",
       "      <td>RT Anies dapat tepuk tangan meriah saat jadi R...</td>\n",
       "      <td>Politik</td>\n",
       "      <td>anies tepuk tangan meriah rektor mewajibkan ma...</td>\n",
       "    </tr>\n",
       "    <tr>\n",
       "      <th>2</th>\n",
       "      <td>@CIqXqwGAT04tMtx4OCATxjoVq7vv/Y8HeYaIOgMFg8Y= ...</td>\n",
       "      <td>Demografi</td>\n",
       "      <td>memang bener memang, pendukung 01 goblok, pend...</td>\n",
       "    </tr>\n",
       "    <tr>\n",
       "      <th>3</th>\n",
       "      <td>RT @L3R8XFBw3WGbxRPSj0/0hHZTbqVGX7qtfwRg9zmhK7...</td>\n",
       "      <td>Politik</td>\n",
       "      <td>anies bersikap kritis kinerja prabowo dianggap...</td>\n",
       "    </tr>\n",
       "    <tr>\n",
       "      <th>4</th>\n",
       "      <td>Anies Baswedan Harap ASN termasuk TNI dan Polr...</td>\n",
       "      <td>Politik</td>\n",
       "      <td>anies baswedan harap asn tni polri pegang sump...</td>\n",
       "    </tr>\n",
       "  </tbody>\n",
       "</table>\n",
       "</div>"
      ],
      "text/plain": [
       "                                                text             label  \\\n",
       "0  Kunjungan Prabowo ini untuk meresmikan dan men...  Sumber Daya Alam   \n",
       "1  RT Anies dapat tepuk tangan meriah saat jadi R...           Politik   \n",
       "2  @CIqXqwGAT04tMtx4OCATxjoVq7vv/Y8HeYaIOgMFg8Y= ...         Demografi   \n",
       "3  RT @L3R8XFBw3WGbxRPSj0/0hHZTbqVGX7qtfwRg9zmhK7...           Politik   \n",
       "4  Anies Baswedan Harap ASN termasuk TNI dan Polr...           Politik   \n",
       "\n",
       "                                          clean_text  \n",
       "0  kunjungan prabowo meresmikan menyerahkan proye...  \n",
       "1  anies tepuk tangan meriah rektor mewajibkan ma...  \n",
       "2  memang bener memang, pendukung 01 goblok, pend...  \n",
       "3  anies bersikap kritis kinerja prabowo dianggap...  \n",
       "4  anies baswedan harap asn tni polri pegang sump...  "
      ]
     },
     "execution_count": 86,
     "metadata": {},
     "output_type": "execute_result"
    }
   ],
   "source": [
    "df = pd.read_excel('../data/cleaned_labeled_dataset_2.xlsx')\n",
    "df.head()"
   ]
  },
  {
   "cell_type": "code",
   "execution_count": 87,
   "metadata": {},
   "outputs": [
    {
     "data": {
      "text/plain": [
       "text          0\n",
       "label         0\n",
       "clean_text    0\n",
       "dtype: int64"
      ]
     },
     "execution_count": 87,
     "metadata": {},
     "output_type": "execute_result"
    }
   ],
   "source": [
    "df.dropna(inplace=True)\n",
    "df.reset_index(drop=True, inplace=True)\n",
    "df.isnull().sum()"
   ]
  },
  {
   "cell_type": "code",
   "execution_count": 88,
   "metadata": {},
   "outputs": [
    {
     "data": {
      "text/html": [
       "<div>\n",
       "<style scoped>\n",
       "    .dataframe tbody tr th:only-of-type {\n",
       "        vertical-align: middle;\n",
       "    }\n",
       "\n",
       "    .dataframe tbody tr th {\n",
       "        vertical-align: top;\n",
       "    }\n",
       "\n",
       "    .dataframe thead th {\n",
       "        text-align: right;\n",
       "    }\n",
       "</style>\n",
       "<table border=\"1\" class=\"dataframe\">\n",
       "  <thead>\n",
       "    <tr style=\"text-align: right;\">\n",
       "      <th></th>\n",
       "      <th>label</th>\n",
       "      <th>clean_text</th>\n",
       "    </tr>\n",
       "  </thead>\n",
       "  <tbody>\n",
       "    <tr>\n",
       "      <th>0</th>\n",
       "      <td>Sumber Daya Alam</td>\n",
       "      <td>kunjungan prabowo meresmikan menyerahkan proye...</td>\n",
       "    </tr>\n",
       "    <tr>\n",
       "      <th>1</th>\n",
       "      <td>Politik</td>\n",
       "      <td>anies tepuk tangan meriah rektor mewajibkan ma...</td>\n",
       "    </tr>\n",
       "    <tr>\n",
       "      <th>2</th>\n",
       "      <td>Demografi</td>\n",
       "      <td>memang bener memang, pendukung 01 goblok, pend...</td>\n",
       "    </tr>\n",
       "    <tr>\n",
       "      <th>3</th>\n",
       "      <td>Politik</td>\n",
       "      <td>anies bersikap kritis kinerja prabowo dianggap...</td>\n",
       "    </tr>\n",
       "    <tr>\n",
       "      <th>4</th>\n",
       "      <td>Politik</td>\n",
       "      <td>anies baswedan harap asn tni polri pegang sump...</td>\n",
       "    </tr>\n",
       "  </tbody>\n",
       "</table>\n",
       "</div>"
      ],
      "text/plain": [
       "              label                                         clean_text\n",
       "0  Sumber Daya Alam  kunjungan prabowo meresmikan menyerahkan proye...\n",
       "1           Politik  anies tepuk tangan meriah rektor mewajibkan ma...\n",
       "2         Demografi  memang bener memang, pendukung 01 goblok, pend...\n",
       "3           Politik  anies bersikap kritis kinerja prabowo dianggap...\n",
       "4           Politik  anies baswedan harap asn tni polri pegang sump..."
      ]
     },
     "execution_count": 88,
     "metadata": {},
     "output_type": "execute_result"
    }
   ],
   "source": [
    "df.drop(columns='text', inplace=True)\n",
    "df.head()"
   ]
  },
  {
   "cell_type": "code",
   "execution_count": 89,
   "metadata": {},
   "outputs": [],
   "source": [
    "def get_top_words(df, n=3, stop_words=None):\n",
    "    # Pisahkan data berdasarkan label\n",
    "    grouped = df.groupby('label')\n",
    "\n",
    "    words_freq = {}\n",
    "\n",
    "    for name, group in grouped:\n",
    "        # Tokenisasi dan hitung frekuensi kata\n",
    "        vectorizer = CountVectorizer(stop_words=stop_words)\n",
    "        X = vectorizer.fit_transform(group['clean_text'])\n",
    "        word_freq = pd.DataFrame(X.toarray(), columns=vectorizer.get_feature_names_out())\n",
    "        total_freq = word_freq.sum().sort_values(ascending=False)\n",
    "        \n",
    "        # Simpan n kata yang paling sering muncul dan frekuensinya\n",
    "        words_freq[name] = total_freq.nlargest(n).to_dict()\n",
    "\n",
    "    # buat fitur dari kata-kata yang paling sering muncul\n",
    "    features = set()\n",
    "    for label, freq in words_freq.items():\n",
    "        for word in freq.keys():\n",
    "            features.add(word)\n",
    "\n",
    "    features = list(features)\n",
    "\n",
    "    return words_freq, features"
   ]
  },
  {
   "cell_type": "code",
   "execution_count": 90,
   "metadata": {},
   "outputs": [
    {
     "name": "stdout",
     "output_type": "stream",
     "text": [
      "{'Demografi': {'anak': 17, 'muda': 16, 'etnis': 12, 'generasi': 12, 'kalangan': 12}, 'Ekonomi': {'ekonomi': 117, 'jnk': 98, 'ganjarpranowopilihanumat': 97, 'program': 84, 'ganjarmahfudrebound': 82}, 'Geografi': {'pulau': 7, 'jakarta': 5, '2024': 4, 'anak': 4, 'ikn': 3}, 'Ideologi': {'negara': 80, 'ganjarpranowopilihanumat': 74, 'indonesia': 69, 'jnk': 65, 'ganjarmahfudrebound': 61}, 'Pertahanan dan Keamanan': {'pertahanan': 115, 'ganjarmahfud2024': 54, 'tni': 47, 'indonesia': 43, 'keamanan': 39}, 'Politik': {'jnk': 478, 'gibran': 435, 'ganjarmahfudrebound': 435, 'ganjarpranowopilihanumat': 407, 'indonesia': 401}, 'Sosial Budaya': {'anak': 87, 'indonesia': 64, 'desak': 50, 'pendidikan': 47, 'program': 42}, 'Sumber Daya Alam': {'air': 24, 'program': 23, 'pertanian': 23, 'food': 21, 'estate': 20}}\n",
      "['keamanan', 'kalangan', 'air', 'gibran', 'muda', 'negara', 'jakarta', 'ganjarmahfud2024', 'pulau', 'pertanian', 'anak', 'pertahanan', 'indonesia', 'food', 'program', 'ganjarpranowopilihanumat', 'etnis', 'generasi', 'jnk', 'desak', '2024', 'tni', 'ekonomi', 'estate', 'pendidikan', 'ikn', 'ganjarmahfudrebound']\n"
     ]
    }
   ],
   "source": [
    "words_freq, features = get_top_words(df, n=5, stop_words=['ganjar', 'anies', 'prabowo', 'mahfud', 'pranowo', 'dalam'])\n",
    "print(words_freq)\n",
    "print(features)"
   ]
  },
  {
   "cell_type": "code",
   "execution_count": 91,
   "metadata": {},
   "outputs": [
    {
     "data": {
      "text/html": [
       "<div>\n",
       "<style scoped>\n",
       "    .dataframe tbody tr th:only-of-type {\n",
       "        vertical-align: middle;\n",
       "    }\n",
       "\n",
       "    .dataframe tbody tr th {\n",
       "        vertical-align: top;\n",
       "    }\n",
       "\n",
       "    .dataframe thead th {\n",
       "        text-align: right;\n",
       "    }\n",
       "</style>\n",
       "<table border=\"1\" class=\"dataframe\">\n",
       "  <thead>\n",
       "    <tr style=\"text-align: right;\">\n",
       "      <th></th>\n",
       "      <th>label</th>\n",
       "      <th>clean_text</th>\n",
       "      <th>keamanan</th>\n",
       "      <th>kalangan</th>\n",
       "      <th>air</th>\n",
       "      <th>gibran</th>\n",
       "      <th>muda</th>\n",
       "      <th>negara</th>\n",
       "      <th>jakarta</th>\n",
       "      <th>ganjarmahfud2024</th>\n",
       "      <th>...</th>\n",
       "      <th>generasi</th>\n",
       "      <th>jnk</th>\n",
       "      <th>desak</th>\n",
       "      <th>2024</th>\n",
       "      <th>tni</th>\n",
       "      <th>ekonomi</th>\n",
       "      <th>estate</th>\n",
       "      <th>pendidikan</th>\n",
       "      <th>ikn</th>\n",
       "      <th>ganjarmahfudrebound</th>\n",
       "    </tr>\n",
       "  </thead>\n",
       "  <tbody>\n",
       "    <tr>\n",
       "      <th>0</th>\n",
       "      <td>Sumber Daya Alam</td>\n",
       "      <td>kunjungan prabowo meresmikan menyerahkan proye...</td>\n",
       "      <td>0</td>\n",
       "      <td>0</td>\n",
       "      <td>1</td>\n",
       "      <td>0</td>\n",
       "      <td>1</td>\n",
       "      <td>0</td>\n",
       "      <td>0</td>\n",
       "      <td>0</td>\n",
       "      <td>...</td>\n",
       "      <td>0</td>\n",
       "      <td>0</td>\n",
       "      <td>0</td>\n",
       "      <td>0</td>\n",
       "      <td>0</td>\n",
       "      <td>0</td>\n",
       "      <td>0</td>\n",
       "      <td>0</td>\n",
       "      <td>0</td>\n",
       "      <td>0</td>\n",
       "    </tr>\n",
       "    <tr>\n",
       "      <th>1</th>\n",
       "      <td>Politik</td>\n",
       "      <td>anies tepuk tangan meriah rektor mewajibkan ma...</td>\n",
       "      <td>0</td>\n",
       "      <td>0</td>\n",
       "      <td>0</td>\n",
       "      <td>0</td>\n",
       "      <td>0</td>\n",
       "      <td>0</td>\n",
       "      <td>0</td>\n",
       "      <td>0</td>\n",
       "      <td>...</td>\n",
       "      <td>0</td>\n",
       "      <td>0</td>\n",
       "      <td>0</td>\n",
       "      <td>0</td>\n",
       "      <td>0</td>\n",
       "      <td>0</td>\n",
       "      <td>0</td>\n",
       "      <td>0</td>\n",
       "      <td>0</td>\n",
       "      <td>0</td>\n",
       "    </tr>\n",
       "    <tr>\n",
       "      <th>2</th>\n",
       "      <td>Demografi</td>\n",
       "      <td>memang bener memang, pendukung 01 goblok, pend...</td>\n",
       "      <td>0</td>\n",
       "      <td>0</td>\n",
       "      <td>0</td>\n",
       "      <td>0</td>\n",
       "      <td>0</td>\n",
       "      <td>0</td>\n",
       "      <td>0</td>\n",
       "      <td>0</td>\n",
       "      <td>...</td>\n",
       "      <td>0</td>\n",
       "      <td>0</td>\n",
       "      <td>0</td>\n",
       "      <td>0</td>\n",
       "      <td>0</td>\n",
       "      <td>0</td>\n",
       "      <td>0</td>\n",
       "      <td>2</td>\n",
       "      <td>0</td>\n",
       "      <td>0</td>\n",
       "    </tr>\n",
       "    <tr>\n",
       "      <th>3</th>\n",
       "      <td>Politik</td>\n",
       "      <td>anies bersikap kritis kinerja prabowo dianggap...</td>\n",
       "      <td>0</td>\n",
       "      <td>0</td>\n",
       "      <td>0</td>\n",
       "      <td>1</td>\n",
       "      <td>0</td>\n",
       "      <td>0</td>\n",
       "      <td>0</td>\n",
       "      <td>0</td>\n",
       "      <td>...</td>\n",
       "      <td>0</td>\n",
       "      <td>0</td>\n",
       "      <td>0</td>\n",
       "      <td>0</td>\n",
       "      <td>0</td>\n",
       "      <td>0</td>\n",
       "      <td>0</td>\n",
       "      <td>0</td>\n",
       "      <td>0</td>\n",
       "      <td>0</td>\n",
       "    </tr>\n",
       "    <tr>\n",
       "      <th>4</th>\n",
       "      <td>Politik</td>\n",
       "      <td>anies baswedan harap asn tni polri pegang sump...</td>\n",
       "      <td>0</td>\n",
       "      <td>0</td>\n",
       "      <td>0</td>\n",
       "      <td>0</td>\n",
       "      <td>0</td>\n",
       "      <td>0</td>\n",
       "      <td>0</td>\n",
       "      <td>0</td>\n",
       "      <td>...</td>\n",
       "      <td>0</td>\n",
       "      <td>0</td>\n",
       "      <td>0</td>\n",
       "      <td>0</td>\n",
       "      <td>1</td>\n",
       "      <td>0</td>\n",
       "      <td>0</td>\n",
       "      <td>0</td>\n",
       "      <td>0</td>\n",
       "      <td>0</td>\n",
       "    </tr>\n",
       "  </tbody>\n",
       "</table>\n",
       "<p>5 rows × 29 columns</p>\n",
       "</div>"
      ],
      "text/plain": [
       "              label                                         clean_text  \\\n",
       "0  Sumber Daya Alam  kunjungan prabowo meresmikan menyerahkan proye...   \n",
       "1           Politik  anies tepuk tangan meriah rektor mewajibkan ma...   \n",
       "2         Demografi  memang bener memang, pendukung 01 goblok, pend...   \n",
       "3           Politik  anies bersikap kritis kinerja prabowo dianggap...   \n",
       "4           Politik  anies baswedan harap asn tni polri pegang sump...   \n",
       "\n",
       "   keamanan  kalangan  air  gibran  muda  negara  jakarta  ganjarmahfud2024  \\\n",
       "0         0         0    1       0     1       0        0                 0   \n",
       "1         0         0    0       0     0       0        0                 0   \n",
       "2         0         0    0       0     0       0        0                 0   \n",
       "3         0         0    0       1     0       0        0                 0   \n",
       "4         0         0    0       0     0       0        0                 0   \n",
       "\n",
       "   ...  generasi  jnk  desak  2024  tni  ekonomi  estate  pendidikan  ikn  \\\n",
       "0  ...         0    0      0     0    0        0       0           0    0   \n",
       "1  ...         0    0      0     0    0        0       0           0    0   \n",
       "2  ...         0    0      0     0    0        0       0           2    0   \n",
       "3  ...         0    0      0     0    0        0       0           0    0   \n",
       "4  ...         0    0      0     0    1        0       0           0    0   \n",
       "\n",
       "   ganjarmahfudrebound  \n",
       "0                    0  \n",
       "1                    0  \n",
       "2                    0  \n",
       "3                    0  \n",
       "4                    0  \n",
       "\n",
       "[5 rows x 29 columns]"
      ]
     },
     "execution_count": 91,
     "metadata": {},
     "output_type": "execute_result"
    }
   ],
   "source": [
    "# tambahkan fitur ke dataframe dan isi dengan frekuensi kata\n",
    "for feature in features:\n",
    "    df[feature] = 0\n",
    "\n",
    "for i, row in df.iterrows():\n",
    "    for feature in features:\n",
    "        df.at[i, feature] = row['clean_text'].count(feature)\n",
    "\n",
    "df.head()"
   ]
  },
  {
   "cell_type": "code",
   "execution_count": 92,
   "metadata": {},
   "outputs": [
    {
     "data": {
      "text/plain": [
       "'kunjungan prabowo meresmikan menyerahkan proyek bantuan air bersih titik. #indonesiasentris #indonesiahijau #02melanjutkan #anakmudaindonesiaemas prabowo subianto'"
      ]
     },
     "execution_count": 92,
     "metadata": {},
     "output_type": "execute_result"
    }
   ],
   "source": [
    "df['clean_text'].iloc[0]"
   ]
  },
  {
   "cell_type": "code",
   "execution_count": 93,
   "metadata": {},
   "outputs": [],
   "source": [
    "from sklearn.feature_extraction.text import CountVectorizer\n",
    "import pandas as pd\n",
    "import re\n",
    "\n",
    "def tokenize(text, stopwords):\n",
    "    # Cari semua hashtag dan hapus stopwords\n",
    "    return [word for word in re.findall(r\"#(\\w+)\", text) if word not in stopwords]\n",
    "\n",
    "def get_top_hashtags(df, n=3, stopwords=None):\n",
    "    # Pisahkan data berdasarkan label\n",
    "    grouped = df.groupby('label')\n",
    "\n",
    "    hashtags_freq = {}\n",
    "\n",
    "    for name, group in grouped:\n",
    "        # Tokenisasi dan hitung frekuensi hashtag\n",
    "        vectorizer = CountVectorizer(tokenizer=lambda text: tokenize(text, stopwords))\n",
    "        X = vectorizer.fit_transform(group['clean_text'])\n",
    "        hashtag_freq = pd.DataFrame(X.toarray(), columns=vectorizer.get_feature_names_out())\n",
    "        total_freq = hashtag_freq.sum().sort_values(ascending=False)\n",
    "        \n",
    "        # Simpan n hashtag yang paling sering muncul dan frekuensinya\n",
    "        hashtags_freq[name] = total_freq.nlargest(n).to_dict()\n",
    "\n",
    "    # buat fitur dari hashtag yang paling sering muncul\n",
    "    features = set()\n",
    "    for label, freq in hashtags_freq.items():\n",
    "        for hashtag in freq.keys():\n",
    "            features.add(hashtag)\n",
    "\n",
    "    features = list(features)\n",
    "\n",
    "    return hashtags_freq, features"
   ]
  },
  {
   "cell_type": "code",
   "execution_count": 94,
   "metadata": {},
   "outputs": [
    {
     "name": "stderr",
     "output_type": "stream",
     "text": [
      "d:\\miniconda\\envs\\mlops\\lib\\site-packages\\sklearn\\feature_extraction\\text.py:528: UserWarning: The parameter 'token_pattern' will not be used since 'tokenizer' is not None'\n",
      "  warnings.warn(\n",
      "d:\\miniconda\\envs\\mlops\\lib\\site-packages\\sklearn\\feature_extraction\\text.py:528: UserWarning: The parameter 'token_pattern' will not be used since 'tokenizer' is not None'\n",
      "  warnings.warn(\n",
      "d:\\miniconda\\envs\\mlops\\lib\\site-packages\\sklearn\\feature_extraction\\text.py:528: UserWarning: The parameter 'token_pattern' will not be used since 'tokenizer' is not None'\n",
      "  warnings.warn(\n",
      "d:\\miniconda\\envs\\mlops\\lib\\site-packages\\sklearn\\feature_extraction\\text.py:528: UserWarning: The parameter 'token_pattern' will not be used since 'tokenizer' is not None'\n",
      "  warnings.warn(\n",
      "d:\\miniconda\\envs\\mlops\\lib\\site-packages\\sklearn\\feature_extraction\\text.py:528: UserWarning: The parameter 'token_pattern' will not be used since 'tokenizer' is not None'\n",
      "  warnings.warn(\n"
     ]
    },
    {
     "name": "stderr",
     "output_type": "stream",
     "text": [
      "d:\\miniconda\\envs\\mlops\\lib\\site-packages\\sklearn\\feature_extraction\\text.py:528: UserWarning: The parameter 'token_pattern' will not be used since 'tokenizer' is not None'\n",
      "  warnings.warn(\n"
     ]
    },
    {
     "name": "stdout",
     "output_type": "stream",
     "text": [
      "{'Demografi': {'ganjarmahfud2024': 7, 'l3bihbaik': 3, '02melanjutkan': 2, 'indonesiahijau': 2, 'anakmudaindonesiaemas': 2}, 'Ekonomi': {'jnk': 98, 'ganjarpranowopilihanumat': 97, 'ganjarmahfudrebound': 82, 'ganjarmahfud2024': 27, 'rembuganjar': 13}, 'Geografi': {'ganjarmahfud2024': 1, 'hotlineparisamin': 1, 'l3bihbaik': 1, 'mahfudlebihbaik3': 1}, 'Ideologi': {'ganjarpranowopilihanumat': 74, 'jnk': 64, 'ganjarmahfudrebound': 61, 'ganjarmahfud2024': 25, 'l3bihbaik': 19}, 'Pertahanan dan Keamanan': {'ganjarmahfud2024': 53, 'coblos3': 33, 'dulujokowisekarangganjar': 23, 'ganjarmahfudm3nangdebat': 12, '02melanjutkan': 11}, 'Politik': {'jnk': 446, 'ganjarmahfudrebound': 435, 'ganjarpranowopilihanumat': 407, 'ganjarmahfud2024': 213, 'coblos3': 161}, 'Sosial Budaya': {'ganjarmahfud2024': 22, 'ganjarmahfudrebound': 13, 'jnk': 13, 'aminajadulu': 11, 'ganjarpranowopilihanumat': 10}, 'Sumber Daya Alam': {'indonesiasentris': 11, 'anakmudaindonesiaemas': 10, '02melanjutkan': 10, 'indonesiahijau': 10, 'ganjarmahfud2024': 9}}\n",
      "['l3bihbaik', 'jnk', 'aminajadulu', 'ganjarmahfudm3nangdebat', 'dulujokowisekarangganjar', 'rembuganjar', 'indonesiasentris', 'ganjarpranowopilihanumat', 'mahfudlebihbaik3', 'ganjarmahfud2024', 'hotlineparisamin', '02melanjutkan', 'coblos3', 'ganjarmahfudrebound', 'anakmudaindonesiaemas', 'indonesiahijau']\n"
     ]
    },
    {
     "name": "stderr",
     "output_type": "stream",
     "text": [
      "d:\\miniconda\\envs\\mlops\\lib\\site-packages\\sklearn\\feature_extraction\\text.py:528: UserWarning: The parameter 'token_pattern' will not be used since 'tokenizer' is not None'\n",
      "  warnings.warn(\n",
      "d:\\miniconda\\envs\\mlops\\lib\\site-packages\\sklearn\\feature_extraction\\text.py:528: UserWarning: The parameter 'token_pattern' will not be used since 'tokenizer' is not None'\n",
      "  warnings.warn(\n"
     ]
    }
   ],
   "source": [
    "stopwords = []\n",
    "hashtags_freq, features = get_top_hashtags(df, n=5, stopwords=stopwords)\n",
    "print(hashtags_freq)\n",
    "print(features)"
   ]
  },
  {
   "cell_type": "code",
   "execution_count": 95,
   "metadata": {},
   "outputs": [],
   "source": [
    "# tambahkan fitur ke dataframe dan isi dengan frekuensi hashtag\n",
    "for feature in features:\n",
    "    df[feature] = 0\n",
    "\n",
    "for i, row in df.iterrows():\n",
    "    for feature in features:\n",
    "        df.at[i, feature] = row['clean_text'].count('#' + feature)\n",
    "        \n",
    "\n"
   ]
  },
  {
   "cell_type": "code",
   "execution_count": 96,
   "metadata": {},
   "outputs": [
    {
     "data": {
      "text/plain": [
       "Index(['label', 'clean_text', 'keamanan', 'kalangan', 'air', 'gibran', 'muda',\n",
       "       'negara', 'jakarta', 'ganjarmahfud2024', 'pulau', 'pertanian', 'anak',\n",
       "       'pertahanan', 'indonesia', 'food', 'program',\n",
       "       'ganjarpranowopilihanumat', 'etnis', 'generasi', 'jnk', 'desak', '2024',\n",
       "       'tni', 'ekonomi', 'estate', 'pendidikan', 'ikn', 'ganjarmahfudrebound',\n",
       "       'l3bihbaik', 'aminajadulu', 'ganjarmahfudm3nangdebat',\n",
       "       'dulujokowisekarangganjar', 'rembuganjar', 'indonesiasentris',\n",
       "       'mahfudlebihbaik3', 'hotlineparisamin', '02melanjutkan', 'coblos3',\n",
       "       'anakmudaindonesiaemas', 'indonesiahijau'],\n",
       "      dtype='object')"
      ]
     },
     "execution_count": 96,
     "metadata": {},
     "output_type": "execute_result"
    }
   ],
   "source": [
    "df.columns"
   ]
  },
  {
   "cell_type": "code",
   "execution_count": 100,
   "metadata": {},
   "outputs": [],
   "source": [
    "# modeling\n",
    "from sklearn.model_selection import train_test_split\n",
    "from sklearn.ensemble import RandomForestClassifier\n",
    "from sklearn.metrics import balanced_accuracy_score\n",
    "\n",
    "X = df.drop(columns=['label', 'clean_text'])\n",
    "y = df['label']\n",
    "\n",
    "X_train, X_test, y_train, y_test = train_test_split(X, y, test_size=0.2, random_state=42, stratify=y)"
   ]
  },
  {
   "cell_type": "code",
   "execution_count": 101,
   "metadata": {},
   "outputs": [
    {
     "data": {
      "text/plain": [
       "0.3042427384639418"
      ]
     },
     "execution_count": 101,
     "metadata": {},
     "output_type": "execute_result"
    }
   ],
   "source": [
    "clf = RandomForestClassifier(random_state=42)\n",
    "clf.fit(X_train, y_train)\n",
    "y_pred = clf.predict(X_test)\n",
    "\n",
    "balanced_accuracy_score(y_test, y_pred)\n"
   ]
  },
  {
   "cell_type": "code",
   "execution_count": 102,
   "metadata": {},
   "outputs": [
    {
     "data": {
      "image/png": "[encoded data removed]",
      "text/plain": [
       "<Figure size 1000x500 with 1 Axes>"
      ]
     },
     "metadata": {},
     "output_type": "display_data"
    }
   ],
   "source": [
    "# feature importance\n",
    "import matplotlib.pyplot as plt\n",
    "\n",
    "importances = clf.feature_importances_\n",
    "indices = importances.argsort()[::-1]\n",
    "\n",
    "plt.figure(figsize=(10, 5))\n",
    "plt.bar(range(X.shape[1]), importances[indices])\n",
    "plt.xticks(range(X.shape[1]), X.columns[indices], rotation=90)\n",
    "plt.show()"
   ]
  }
 ],
 "metadata": {
  "kernelspec": {
   "display_name": "mlops",
   "language": "python",
   "name": "python3"
  },
  "language_info": {
   "codemirror_mode": {
    "name": "ipython",
    "version": 3
   },
   "file_extension": ".py",
   "mimetype": "text/x-python",
   "name": "python",
   "nbconvert_exporter": "python",
   "pygments_lexer": "ipython3",
   "version": "3.8.18"
  }
 },
 "nbformat": 4,
 "nbformat_minor": 2
}
